{
 "cells": [
  {
   "cell_type": "code",
   "execution_count": null,
   "metadata": {},
   "outputs": [],
   "source": [
    "%matplotlib inline\n",
    "import matplotlib.pyplot as plt\n",
    "import numpy as np\n",
    "from numpy import pi as π\n",
    "import firedrake\n",
    "from firedrake import as_vector, inner, ds\n",
    "import icepack, icepack.plot, icepack.models, icepack.solvers"
   ]
  },
  {
   "cell_type": "markdown",
   "metadata": {},
   "source": [
    "### Making the geometry"
   ]
  },
  {
   "cell_type": "code",
   "execution_count": null,
   "metadata": {},
   "outputs": [],
   "source": [
    "import pygmsh\n",
    "\n",
    "R = 200e3\n",
    "δx = 5e3"
   ]
  },
  {
   "cell_type": "code",
   "execution_count": null,
   "metadata": {},
   "outputs": [],
   "source": [
    "geometry = pygmsh.built_in.Geometry()\n",
    "\n",
    "x1 = geometry.add_point([-R, 0, 0], lcar=δx)\n",
    "x2 = geometry.add_point([+R, 0, 0], lcar=δx)\n",
    "\n",
    "center1 = geometry.add_point([0, 0, 0,], lcar=δx)\n",
    "center2 = geometry.add_point([0, -4 * R, 0], lcar=δx)\n",
    "\n",
    "arcs = [geometry.add_circle_arc(x1, center1, x2),\n",
    "        geometry.add_circle_arc(x2, center2, x1)]"
   ]
  },
  {
   "cell_type": "code",
   "execution_count": null,
   "metadata": {},
   "outputs": [],
   "source": [
    "line_loop = geometry.add_line_loop(arcs)\n",
    "plane_surface = geometry.add_plane_surface(line_loop)\n",
    "\n",
    "physical_lines = [geometry.add_physical(arc) for arc in arcs]\n",
    "physical_surface = geometry.add_physical(plane_surface)"
   ]
  },
  {
   "cell_type": "code",
   "execution_count": null,
   "metadata": {},
   "outputs": [],
   "source": [
    "with open('ice-shelf.geo', 'w') as geo_file:\n",
    "    geo_file.write(geometry.get_code())"
   ]
  },
  {
   "cell_type": "code",
   "execution_count": null,
   "metadata": {},
   "outputs": [],
   "source": [
    "!gmsh -2 -format msh2 -o ice-shelf.msh ice-shelf.geo"
   ]
  },
  {
   "cell_type": "code",
   "execution_count": null,
   "metadata": {},
   "outputs": [],
   "source": [
    "mesh = firedrake.Mesh('ice-shelf.msh')"
   ]
  },
  {
   "cell_type": "code",
   "execution_count": null,
   "metadata": {},
   "outputs": [],
   "source": [
    "fig, axes = icepack.plot.subplots()\n",
    "icepack.plot.triplot(mesh, axes=axes)\n",
    "axes.legend()\n",
    "plt.show(fig)"
   ]
  },
  {
   "cell_type": "markdown",
   "metadata": {},
   "source": [
    "### Input data"
   ]
  },
  {
   "cell_type": "code",
   "execution_count": null,
   "metadata": {},
   "outputs": [],
   "source": [
    "inlet_angles = π * np.array([-3/4, -1/2, -1/3, -1/6])\n",
    "inlet_widths = π * np.array([1/8, 1/12, 1/24, 1/12])"
   ]
  },
  {
   "cell_type": "code",
   "execution_count": null,
   "metadata": {},
   "outputs": [],
   "source": [
    "x = firedrake.SpatialCoordinate(mesh)\n",
    "\n",
    "u_in = 300\n",
    "h_in = 350\n",
    "hb = 100\n",
    "dh, du = 400, 250\n",
    "\n",
    "hs, us = [], []\n",
    "for θ, ϕ in zip(inlet_angles, inlet_widths):\n",
    "    x0 = R * as_vector((np.cos(θ), np.sin(θ)))\n",
    "    v = -as_vector((np.cos(θ), np.sin(θ)))\n",
    "    L = inner(x - x0, v)\n",
    "    W = x - x0 - L * v\n",
    "    Rn = 2 * ϕ / π * R\n",
    "    q = firedrake.max_value(1 - (W / Rn)**2, 0)\n",
    "    hs.append(hb + q * ((h_in - hb) - dh * L /R))\n",
    "    us.append(firedrake.exp(-4 * (W/R)**2) * (u_in + du * L / R) * v)"
   ]
  },
  {
   "cell_type": "code",
   "execution_count": null,
   "metadata": {},
   "outputs": [],
   "source": [
    "from icepack.constants import ice_density as ρ_I, water_density as ρ_W\n",
    "b0 = -ρ_I / ρ_W * h_in - 100."
   ]
  },
  {
   "cell_type": "code",
   "execution_count": null,
   "metadata": {},
   "outputs": [],
   "source": [
    "h_expr = firedrake.Constant(hb)\n",
    "for h in hs:\n",
    "    h_expr = firedrake.max_value(h, h_expr)\n",
    "    \n",
    "u_expr = sum(us)\n",
    "b_expr = firedrake.Constant(b0)"
   ]
  },
  {
   "cell_type": "code",
   "execution_count": null,
   "metadata": {},
   "outputs": [],
   "source": [
    "Q = firedrake.FunctionSpace(mesh, family='CG', degree=2)\n",
    "V = firedrake.VectorFunctionSpace(mesh, family='CG', degree=2)\n",
    "\n",
    "h0 = firedrake.interpolate(h_expr, Q)\n",
    "b = firedrake.interpolate(b_expr, Q)\n",
    "u0 = firedrake.interpolate(u_expr, V)"
   ]
  },
  {
   "cell_type": "code",
   "execution_count": null,
   "metadata": {},
   "outputs": [],
   "source": [
    "fig, axes = icepack.plot.subplots()\n",
    "axes.set_title('Thickness')\n",
    "contours = icepack.plot.tricontourf(h0, 40, axes=axes)\n",
    "fig.colorbar(contours)"
   ]
  },
  {
   "cell_type": "code",
   "execution_count": null,
   "metadata": {},
   "outputs": [],
   "source": [
    "fig, axes = icepack.plot.subplots()\n",
    "axes.set_title('Velocity')\n",
    "contours = icepack.plot.tricontourf(u0, 40, axes=axes)\n",
    "fig.colorbar(contours)"
   ]
  },
  {
   "cell_type": "markdown",
   "metadata": {},
   "source": [
    "### Modeling"
   ]
  },
  {
   "cell_type": "code",
   "execution_count": null,
   "metadata": {},
   "outputs": [],
   "source": [
    "from icepack.constants import gravity as g\n",
    "def friction(u, h, s, C):\n",
    "    p_W = ρ_W * g * firedrake.max_value(0, h - s)\n",
    "    p_I = ρ_I * g * h\n",
    "    ϕ = 1 - p_W / p_I\n",
    "    return icepack.models.friction.bed_friction(u, C * ϕ)\n",
    "\n",
    "model = icepack.models.IceStream(friction=friction)\n",
    "opts = {'dirichlet_ids': [1], 'tolerance': 1e-12}\n",
    "solver = icepack.solvers.FlowSolver(model, **opts)"
   ]
  },
  {
   "cell_type": "markdown",
   "metadata": {},
   "source": [
    "We'll tune the friction coefficient so that ice grounded above sea level flowing at 512 m/year (shut up, it's a cube...) will experience a basal shear stress of 100 kPa."
   ]
  },
  {
   "cell_type": "code",
   "execution_count": null,
   "metadata": {},
   "outputs": [],
   "source": [
    "T = firedrake.Constant(255.15)\n",
    "A = firedrake.interpolate(icepack.rate_factor(T), Q)\n",
    "\n",
    "from icepack.constants import weertman_sliding_law as m\n",
    "C = firedrake.Constant(.1 / 512**(1/m))"
   ]
  },
  {
   "cell_type": "code",
   "execution_count": null,
   "metadata": {},
   "outputs": [],
   "source": [
    "h = h0.copy(deepcopy=True)\n",
    "s = icepack.compute_surface(h=h, b=b)\n",
    "u = solver.diagnostic_solve(velocity=u0, thickness=h, surface=s, fluidity=A, friction=C)\n"
   ]
  },
  {
   "cell_type": "code",
   "execution_count": null,
   "metadata": {},
   "outputs": [],
   "source": [
    "help(solver.diagnostic_solve)"
   ]
  },
  {
   "cell_type": "code",
   "execution_count": null,
   "metadata": {},
   "outputs": [],
   "source": [
    "fig, axes = icepack.plot.subplots()\n",
    "streamlines = icepack.plot.streamplot(u, precision=1e3, density=2e3, axes=axes)\n",
    "fig.colorbar(streamlines, label='meters/year')\n",
    "plt.show(fig)"
   ]
  },
  {
   "cell_type": "code",
   "execution_count": null,
   "metadata": {},
   "outputs": [],
   "source": [
    "import tqdm\n",
    "\n",
    "final_time = 400.\n",
    "num_timesteps = 200\n",
    "dt = final_time / num_timesteps\n",
    "a = firedrake.Constant(0.0)\n",
    "\n",
    "for step in tqdm.trange(num_timesteps):\n",
    "    h = solver.prognostic_solve(dt, h=h, a=a, u=u, h_inflow=h0)\n",
    "    s = icepack.compute_surface(h=h, b=b)\n",
    "    u = solver.diagnostic_solve(u=u, h=h, s=s, A=A, C=C, **opts)"
   ]
  },
  {
   "cell_type": "code",
   "execution_count": null,
   "metadata": {},
   "outputs": [],
   "source": [
    "fig, axes = icepack.plot.subplots()\n",
    "contours = icepack.plot.tricontourf(h, 40, axes=axes)\n",
    "fig.colorbar(contours, label='meters')\n",
    "plt.show(fig)"
   ]
  },
  {
   "cell_type": "code",
   "execution_count": null,
   "metadata": {},
   "outputs": [],
   "source": [
    "fig, axes = icepack.plot.subplots()\n",
    "streamlines = icepack.plot.streamplot(u, precision=1e3, density=2e3, axes=axes)\n",
    "fig.colorbar(streamlines, label='meters/year')\n",
    "plt.show(fig)"
   ]
  },
  {
   "cell_type": "markdown",
   "metadata": {},
   "source": [
    "### Adding an ice rise\n",
    "\n",
    "Now let's add something like a seamount!\n",
    "We'll make it come to within 90m of sea level, it'll be located at coordinates $(30.0, -75)$ km, and it'll have a radius of 50 km."
   ]
  },
  {
   "cell_type": "code",
   "execution_count": null,
   "metadata": {},
   "outputs": [],
   "source": [
    "db = -90 - b0\n",
    "x = firedrake.SpatialCoordinate(mesh)\n",
    "x0 = firedrake.Constant((30e3, -75e3))\n",
    "r = firedrake.Constant(50e3)\n",
    "b_expr = b0 + db * firedrake.exp(-inner(x - x0, x - x0) / r**2)\n",
    "b = firedrake.interpolate(b_expr, Q)"
   ]
  },
  {
   "cell_type": "code",
   "execution_count": null,
   "metadata": {},
   "outputs": [],
   "source": [
    "fig, axes = icepack.plot.subplots()\n",
    "contours = icepack.plot.tricontourf(b, axes=axes)\n",
    "fig.colorbar(contours)"
   ]
  },
  {
   "cell_type": "code",
   "execution_count": null,
   "metadata": {},
   "outputs": [],
   "source": [
    "s = icepack.compute_surface(h=h, b=b)\n",
    "u = solver.diagnostic_solve(u=u, h=h, s=s, A=A, C=C)"
   ]
  },
  {
   "cell_type": "code",
   "execution_count": null,
   "metadata": {},
   "outputs": [],
   "source": [
    "fig, axes = icepack.plot.subplots()\n",
    "streamlines = icepack.plot.streamplot(u, precision=1e3, density=2e3, axes=axes)\n",
    "fig.colorbar(streamlines, label='meters/year')\n",
    "plt.show(fig)"
   ]
  },
  {
   "cell_type": "code",
   "execution_count": null,
   "metadata": {},
   "outputs": [],
   "source": [
    "for step in tqdm.trange(num_timesteps):\n",
    "    h = solver.prognostic_solve(dt, h=h, a=a, u=u, h_inflow=h0)\n",
    "    s = icepack.compute_surface(h=h, b=b)\n",
    "    u = solver.diagnostic_solve(u=u, h=h, s=s, A=A, C=C)"
   ]
  },
  {
   "cell_type": "code",
   "execution_count": null,
   "metadata": {},
   "outputs": [],
   "source": [
    "fig, axes = icepack.plot.subplots()\n",
    "axes.set_xlabel('x (km)')\n",
    "axes.set_ylabel('y (km)')\n",
    "axes.set_title('Ice velocity')\n",
    "streamlines = icepack.plot.streamplot(u, precision=1e3, density=2e3, axes=axes)\n",
    "fig.colorbar(streamlines, label='meters/year', fraction=0.0265, pad=0.04)"
   ]
  },
  {
   "cell_type": "code",
   "execution_count": null,
   "metadata": {},
   "outputs": [],
   "source": [
    "fig, axes = icepack.plot.subplots()\n",
    "axes.set_xlabel('x (km)')\n",
    "axes.set_ylabel('y (km)')\n",
    "axes.set_title('Ice thickness')\n",
    "contours = icepack.plot.tricontourf(h, 40, axes=axes)\n",
    "fig.colorbar(contours, label='meters', fraction=0.0265, pad=0.04)"
   ]
  }
 ],
 "metadata": {
  "kernelspec": {
   "display_name": "firedrake",
   "language": "python",
   "name": "firedrake"
  },
  "language_info": {
   "codemirror_mode": {
    "name": "ipython",
    "version": 3
   },
   "file_extension": ".py",
   "mimetype": "text/x-python",
   "name": "python",
   "nbconvert_exporter": "python",
   "pygments_lexer": "ipython3",
   "version": "3.9.17"
  }
 },
 "nbformat": 4,
 "nbformat_minor": 2
}
