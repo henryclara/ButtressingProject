{
 "cells": [
  {
   "cell_type": "code",
   "execution_count": null,
   "id": "61f44e92",
   "metadata": {},
   "outputs": [],
   "source": [
    "import firedrake\n",
    "import matplotlib.pyplot as plt\n",
    "import icepack.plot\n",
    "from firedrake import inner, as_vector\n",
    "import icepack\n",
    "from firedrake import ds\n",
    "import numpy as np\n",
    "import math\n"
   ]
  },
  {
   "cell_type": "code",
   "execution_count": null,
   "id": "e59334d0",
   "metadata": {},
   "outputs": [],
   "source": [
    "# Read in the mesh used in the Elmer/Ice simulations\n",
    "\n",
    "v0 = 300\n",
    "res = 1000\n",
    "\n",
    "sim = 'Flux' + str(v0) + 'Sigma3000' # also run: 'Flux50Sigma5000', 'Flux300Sigma1000', 'Flux300Sigma5000'\n",
    "mesh2d = firedrake.Mesh('MeshRes' + str(res) + '/' + sim + '.msh')\n",
    "mesh = firedrake.ExtrudedMesh(mesh2d, layers=1)\n"
   ]
  },
  {
   "cell_type": "raw",
   "id": "85ef5738",
   "metadata": {},
   "source": [
    "#Plot the mesh\n",
    "\n",
    "fig, axes = icepack.plot.subplots()\n",
    "icepack.plot.triplot(mesh, axes=axes)\n",
    "axes.legend();\n"
   ]
  },
  {
   "cell_type": "raw",
   "id": "f95c1071",
   "metadata": {},
   "source": [
    "\n",
    "x, y = firedrake.SpatialCoordinate(mesh)"
   ]
  },
  {
   "cell_type": "raw",
   "id": "b61248eb",
   "metadata": {},
   "source": [
    "# Define the function spaces\n",
    "\n",
    "Q = firedrake.FunctionSpace(mesh, \"CG\", 2)\n",
    "V = firedrake.VectorFunctionSpace(mesh, \"CG\", 2)"
   ]
  },
  {
   "cell_type": "code",
   "execution_count": null,
   "id": "8247daba",
   "metadata": {},
   "outputs": [],
   "source": [
    "Q = firedrake.FunctionSpace(\n",
    "    mesh, \"CG\", 2, vfamily=\"R\", vdegree=0\n",
    ")"
   ]
  },
  {
   "cell_type": "code",
   "execution_count": null,
   "id": "a41ed20f",
   "metadata": {},
   "outputs": [],
   "source": [
    "V = firedrake.VectorFunctionSpace(\n",
    "    mesh, \"CG\", 2, dim=2, vfamily=\"GL\", vdegree=2\n",
    ")"
   ]
  },
  {
   "cell_type": "code",
   "execution_count": null,
   "id": "0871a87d",
   "metadata": {},
   "outputs": [],
   "source": [
    "from icepack.constants import (\n",
    "    ice_density as ρ_I,\n",
    "    water_density as ρ_W,\n",
    "    weertman_sliding_law as m,\n",
    "    gravity as g,\n",
    ")\n",
    "\n",
    "x, y, ζ = firedrake.SpatialCoordinate(mesh)"
   ]
  },
  {
   "cell_type": "code",
   "execution_count": null,
   "id": "4b0ea9f5",
   "metadata": {},
   "outputs": [],
   "source": [
    "\n",
    "b = -600.0\n",
    "b = firedrake.Constant(b, Q)\n",
    "\n",
    "s = 30.0\n",
    "s0 = firedrake.Constant(s, Q)\n",
    "s0 = firedrake.interpolate(s0, Q)\n",
    "\n",
    "h = 300.0\n",
    "h0 = firedrake.Constant(h, Q)"
   ]
  },
  {
   "cell_type": "code",
   "execution_count": null,
   "id": "5c35b596",
   "metadata": {},
   "outputs": [],
   "source": [
    "h_in = h0\n",
    "sdiff = 0.0\n",
    "δs_δy = firedrake.Constant(sdiff, Q)\n",
    "τ_D = -ρ_I * g * h_in * δs_δy"
   ]
  },
  {
   "cell_type": "code",
   "execution_count": null,
   "id": "f1688533",
   "metadata": {},
   "outputs": [],
   "source": [
    "# Define the inflow boundary velocity and thickness\n",
    "u_out = v0 #initial guess at what the outflow velocity should be\n",
    "u_in = v0 #velocity at inflow boundary (kept fixed through simulation)\n",
    "#h_in = 300.0 #inflow thickness (also kept constant)\n",
    "Ly = 1.5e5\n",
    "\n",
    "#Define regular shelf flow, but with circular repression around the centre of the ice rise\n",
    "center = [1.5e5, 0.75e5]\n",
    "distance = firedrake.interpolate(firedrake.sqrt((x-center[0])**2 + (y-center[1])**2),Q)\n",
    "#where distance==min_dist is where the boundary of the domain is\n",
    "min_dist = distance.dat.data.min()\n",
    "\n",
    "u_0_x = 0.0\n",
    "u_0_y = firedrake.min_value(u_in + (u_out - u_in) * (y/Ly), 0.5 * (distance-min_dist))\n"
   ]
  },
  {
   "cell_type": "code",
   "execution_count": null,
   "id": "610c752a",
   "metadata": {},
   "outputs": [],
   "source": [
    "\n",
    "h_expr = firedrake.Constant(h_in)\n",
    "h0 = firedrake.interpolate(h_expr, Q)\n",
    "u0 = firedrake.interpolate(firedrake.as_vector((u_0_x,u_0_y)), V)\n"
   ]
  },
  {
   "cell_type": "code",
   "execution_count": null,
   "id": "bba5a64d",
   "metadata": {},
   "outputs": [],
   "source": [
    "yearinsec = 365.25*24*60*60\n",
    "A = 4.6e-25*yearinsec*1.0e18\n",
    "A = firedrake.Constant(A)\n"
   ]
  },
  {
   "cell_type": "code",
   "execution_count": null,
   "id": "d63f2834",
   "metadata": {},
   "outputs": [],
   "source": [
    "expr = (0.95 - 0.05 * y / Ly) * τ_D / u_in**(1 / m)\n",
    "C = firedrake.interpolate(expr, Q)\n",
    "\n",
    "p_W = ρ_W * g * firedrake.max_value(0, h0 - s0)\n",
    "p_I = ρ_I * g * h0\n",
    "ϕ = 1 - p_W / p_I"
   ]
  },
  {
   "cell_type": "code",
   "execution_count": null,
   "id": "da427960",
   "metadata": {},
   "outputs": [],
   "source": [
    "import icepack.models.hybrid\n",
    "\n",
    "def friction(**kwargs):\n",
    "    u = kwargs[\"velocity\"]\n",
    "    h = kwargs[\"thickness\"]\n",
    "    s = kwargs[\"surface\"]\n",
    "    C = kwargs[\"friction\"]\n",
    "\n",
    "    p_W = ρ_W * g * firedrake.max_value(0, h - s)\n",
    "    p_I = ρ_I * g * h\n",
    "    ϕ = 1 - p_W / p_I\n",
    "    return icepack.models.hybrid.bed_friction(\n",
    "        velocity=u,\n",
    "        friction=C * ϕ,\n",
    "    )"
   ]
  },
  {
   "cell_type": "code",
   "execution_count": null,
   "id": "3f75606a",
   "metadata": {},
   "outputs": [],
   "source": [
    "model = icepack.models.HybridModel(friction=friction)\n",
    "opts = {\n",
    "    \"dirichlet_ids\": [9,13],\n",
    "    \"side_wall_ids\": [10,12],\n",
    "}\n",
    "solver = icepack.solvers.FlowSolver(model, **opts)\n",
    "\n",
    "u0 = solver.diagnostic_solve(\n",
    "    velocity=u0,\n",
    "    thickness=h0,\n",
    "    surface=s0,\n",
    "    fluidity=A,\n",
    "    friction=C,\n",
    ")"
   ]
  },
  {
   "cell_type": "code",
   "execution_count": null,
   "id": "aad6b7e4",
   "metadata": {},
   "outputs": [],
   "source": [
    "# Set A(T)\n",
    "\n",
    "#T = firedrake.Constant(255.15)\n",
    "#A = icepack.rate_factor(T)\n",
    "\n",
    "yearinsec = 365.25*24*60*60\n",
    "A = 4.6e-25*yearinsec*1.0e18\n",
    "A = firedrake.Constant(A)\n"
   ]
  },
  {
   "cell_type": "code",
   "execution_count": null,
   "id": "4ae868a1",
   "metadata": {},
   "outputs": [],
   "source": [
    "fig, axes = icepack.plot.subplots()\n",
    "colors = icepack.plot.tripcolor(u0, axes=axes)\n",
    "fig.colorbar(colors, ax=axes, fraction=0.012, pad=0.04);"
   ]
  },
  {
   "cell_type": "code",
   "execution_count": null,
   "id": "113758b4",
   "metadata": {},
   "outputs": [],
   "source": [
    "import tqdm\n",
    "\n",
    "num_years = 1000\n",
    "timesteps_per_year = 1\n",
    "\n",
    "δt = 1.0 / timesteps_per_year\n",
    "num_timesteps = num_years * timesteps_per_year\n",
    "\n",
    "a = firedrake.Constant(0.0)\n",
    "h = h0.copy(deepcopy=True)\n",
    "u = u0.copy(deepcopy=True)\n",
    "\n",
    "for step in tqdm.trange(num_timesteps):\n",
    "    h = firedrake.interpolate(firedrake.max_value(h, 10.0), Q)\n",
    "    h = solver.prognostic_solve(\n",
    "        δt,\n",
    "        thickness=h,\n",
    "        velocity=u,\n",
    "        accumulation=a,\n",
    "        thickness_inflow=h0,\n",
    "    )\n",
    "    h = firedrake.interpolate(firedrake.max_value(h, 10.0), Q)\n",
    "    s = icepack.compute_surface(thickness=h, bed=b)\n",
    "    \n",
    "    u = solver.diagnostic_solve(\n",
    "        velocity=u,\n",
    "        thickness=h,\n",
    "        surface=s,\n",
    "        fluidity=A,\n",
    "        friction=C,\n",
    "    )"
   ]
  },
  {
   "cell_type": "code",
   "execution_count": null,
   "id": "2a6cc525",
   "metadata": {},
   "outputs": [],
   "source": [
    "fig, axes = icepack.plot.subplots()\n",
    "colors = icepack.plot.tripcolor(h, axes=axes, vmin=10, vmax=20)\n",
    "fig.colorbar(colors, label=\"meters\", fraction=0.012, pad=0.04);"
   ]
  },
  {
   "cell_type": "code",
   "execution_count": null,
   "id": "33e7f857",
   "metadata": {},
   "outputs": [],
   "source": [
    "fig, axes = icepack.plot.subplots()\n",
    "colors = icepack.plot.tripcolor(u0, axes=axes)\n",
    "fig.colorbar(colors, ax=axes, fraction=0.012, pad=0.04);"
   ]
  },
  {
   "cell_type": "code",
   "execution_count": null,
   "id": "45836859",
   "metadata": {},
   "outputs": [],
   "source": [
    "from icepack.models.viscosity import membrane_stress\n",
    "from firedrake import sym, grad, sqrt, tr\n",
    "\n",
    "#For this part we work on the footprint mesh!\n",
    "Q_c = firedrake.FunctionSpace(mesh2d, \"CG\", 2)\n",
    "S = firedrake.TensorFunctionSpace(mesh2d, \"DG\", 1)\n",
    "#Calculate the depth-averaged velocity - for weighted average look at icepack tutorial on hybrid model(xyz)\n",
    "u_shear = icepack.depth_average(u) \n",
    "ε = firedrake.project(sym(grad(u_shear)), S)\n",
    "\n",
    "ε_e = firedrake.project(1e3 * sqrt(inner(ε, ε) + tr(ε) ** 2), Q_c)\n",
    "\n",
    "degree = 2 * ε.ufl_element().degree()\n",
    "params = {\n",
    "    \"form_compiler_parameters\": {\n",
    "        \"quadrature_degree\": degree\n",
    "    }\n",
    "}\n",
    "\n",
    "# ε = firedrake.Function(S)\n",
    "M = firedrake.Function(S)\n",
    "\n",
    "# ε.project(sym(grad(u)))\n",
    "expr = membrane_stress(strain_rate=ε, fluidity=A)\n",
    "M.project(expr, **params)"
   ]
  },
  {
   "cell_type": "code",
   "execution_count": null,
   "id": "b638287c",
   "metadata": {},
   "outputs": [],
   "source": [
    "εxx = firedrake.interpolate(ε[0, 0],Q_c)\n",
    "\n",
    "fig, axes = icepack.plot.subplots()\n",
    "colors = icepack.plot.tripcolor(εxx, axes=axes)\n",
    "fig.colorbar(colors);\n"
   ]
  },
  {
   "cell_type": "code",
   "execution_count": null,
   "id": "7ee772bd",
   "metadata": {},
   "outputs": [],
   "source": [
    "h_c = icepack.depth_average(h) #the depth-averaged thickness is obvioulsy just the thickness, but we need to get a quantity defined on the footprint mesh.\n",
    "\n",
    "year = 365.25 * 24 * 60 * 60 # number of seconds in a year\n",
    "g = 9.81 * year**2 # [m a^{-1}]\n",
    "rho_i = 900 / year**2 * 1.0e-6 #[MPa m^{-2} a^2]\n",
    "#sigma_xx = firedrake.interpolate(2 * M[0,0]*h + M[1,1]*h - 0.5 * rho_i * g * h**2, Q)\n",
    "#sigma_yy = firedrake.interpolate(2 * M[1,1]*h + M[0,0]*h - 0.5 * rho_i * g * h**2, Q)\n",
    "sigma_xx = firedrake.interpolate(2 * M[0,0]*h_c + M[1,1]*h_c - 0.5 * rho_i * g * h_c**2, Q_c)\n",
    "sigma_yy = firedrake.interpolate(2 * M[1,1]*h_c + M[0,0]*h_c - 0.5 * rho_i * g * h_c**2, Q_c)\n",
    "#sigma_nhp_xx = firedrake.interpolate(2 * M[0,0]*h + M[1,1]*h, Q)\n",
    "#sigma_nhp_yy = firedrake.interpolate(2 * M[1,1]*h + M[0,0]*h, Q)\n",
    "Mxx = firedrake.interpolate(M[0,0]*h_c, Q_c) # \n",
    "Myy = firedrake.interpolate(M[1,1]*h_c, Q_c) # \n",
    "HP = firedrake.interpolate( - 0.5 * rho_i * g * h_c**2, Q_c) # negative\n"
   ]
  },
  {
   "cell_type": "code",
   "execution_count": null,
   "id": "200dfb68",
   "metadata": {
    "scrolled": true
   },
   "outputs": [],
   "source": [
    "fig, axes = icepack.plot.subplots()\n",
    "colors = icepack.plot.tripcolor(Mxx, axes=axes, vmin=-50, vmax=50, cmap=\"Spectral\")\n",
    "fig.colorbar(colors);"
   ]
  },
  {
   "cell_type": "code",
   "execution_count": null,
   "id": "f26894a9",
   "metadata": {},
   "outputs": [],
   "source": [
    "fig, axes = icepack.plot.subplots()\n",
    "colors = icepack.plot.tripcolor(Myy, axes=axes, vmin=-50, vmax=50, cmap=\"Spectral\")\n",
    "fig.colorbar(colors);"
   ]
  },
  {
   "cell_type": "code",
   "execution_count": null,
   "id": "93870cb0",
   "metadata": {},
   "outputs": [],
   "source": [
    "fig, axes = icepack.plot.subplots()\n",
    "colors = icepack.plot.tripcolor(sigma_xx, axes=axes, vmin=-300, vmax=0, cmap=\"Spectral\")\n",
    "fig.colorbar(colors);"
   ]
  },
  {
   "cell_type": "code",
   "execution_count": null,
   "id": "feba8610",
   "metadata": {},
   "outputs": [],
   "source": [
    "fig, axes = icepack.plot.subplots()\n",
    "colors = icepack.plot.tripcolor(sigma_yy, axes=axes, vmin=-300, vmax=-100, cmap=\"Spectral\")\n",
    "fig.colorbar(colors);"
   ]
  },
  {
   "cell_type": "code",
   "execution_count": null,
   "id": "1535ffb7",
   "metadata": {},
   "outputs": [],
   "source": [
    "vy = firedrake.interpolate(u[1],Q)\n",
    "\n",
    "fig, axes = icepack.plot.subplots()\n",
    "colors = icepack.plot.tripcolor(vy, axes=axes)\n",
    "fig.colorbar(colors);"
   ]
  },
  {
   "cell_type": "code",
   "execution_count": null,
   "id": "df8919ec",
   "metadata": {},
   "outputs": [],
   "source": [
    "outfile = firedrake.File('Simulations/hybrid_res' + str(res) + '_sigma_yy_' + sim + '.pvd')\n",
    "outfile.write(sigma_yy)"
   ]
  },
  {
   "cell_type": "code",
   "execution_count": null,
   "id": "f3d72762",
   "metadata": {},
   "outputs": [],
   "source": [
    "\n",
    "outfile = firedrake.File('Simulations/hybrid_res' + str(res) + sim + '.pvd')\n",
    "outfile.write(h, u, s)\n"
   ]
  },
  {
   "cell_type": "code",
   "execution_count": null,
   "id": "e9c59778",
   "metadata": {},
   "outputs": [],
   "source": []
  },
  {
   "cell_type": "code",
   "execution_count": null,
   "id": "88db7588",
   "metadata": {},
   "outputs": [],
   "source": []
  },
  {
   "cell_type": "code",
   "execution_count": null,
   "id": "83ce18be",
   "metadata": {},
   "outputs": [],
   "source": []
  },
  {
   "cell_type": "code",
   "execution_count": null,
   "id": "4feb83c9",
   "metadata": {},
   "outputs": [],
   "source": []
  },
  {
   "cell_type": "code",
   "execution_count": null,
   "id": "f2f4dfbd",
   "metadata": {},
   "outputs": [],
   "source": []
  }
 ],
 "metadata": {
  "kernelspec": {
   "display_name": "firedrake",
   "language": "python",
   "name": "firedrake"
  },
  "language_info": {
   "codemirror_mode": {
    "name": "ipython",
    "version": 3
   },
   "file_extension": ".py",
   "mimetype": "text/x-python",
   "name": "python",
   "nbconvert_exporter": "python",
   "pygments_lexer": "ipython3",
   "version": "3.9.17"
  }
 },
 "nbformat": 4,
 "nbformat_minor": 5
}
