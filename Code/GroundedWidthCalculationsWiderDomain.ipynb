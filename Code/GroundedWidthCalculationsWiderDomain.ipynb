{
 "cells": [
  {
   "cell_type": "code",
   "execution_count": 2,
   "id": "83153d22",
   "metadata": {},
   "outputs": [],
   "source": [
    "import pandas as pd\n",
    "import numpy as np\n",
    "import matplotlib.pyplot as plt\n",
    "import scipy.interpolate\n",
    "import netCDF4 as nc\n",
    "import xarray as xr\n",
    "import scipy.ndimage\n",
    "import scipy as sp\n",
    "import alphashape\n",
    "import glob\n",
    "from shapely.geometry import Point\n",
    "from shapely.geometry.polygon import Polygon\n",
    "from matplotlib import style\n",
    "import seaborn as sns\n",
    "style.use('ggplot') or plt.style.use('ggplot')\n"
   ]
  },
  {
   "cell_type": "code",
   "execution_count": 3,
   "id": "7fca4364",
   "metadata": {},
   "outputs": [],
   "source": [
    "# Read in the grounded area csv files\n",
    "\n",
    "#fluxes = [100, 200, 300, 400, 500]\n",
    "#sigmas = [4000, 8000, 12000, 16000]\n",
    "#sims = []\n",
    "sims = ['Flux50Sigma1000',  'Flux50Sigma2000', 'Flux50Sigma4000',\\\n",
    "        'Flux100Sigma1000', 'Flux100Sigma2000', 'Flux100Sigma3000', 'Flux100Sigma4000', 'Flux100Sigma5000',\\\n",
    "        'Flux150Sigma2000', 'Flux150Sigma3000', 'Flux150Sigma4000', \\\n",
    "        'Flux200Sigma1000', 'Flux200Sigma2000', 'Flux200Sigma3000', 'Flux200Sigma4000', 'Flux200Sigma5000',\\\n",
    "        'Flux250Sigma1000', 'Flux250Sigma2000', 'Flux250Sigma3000', 'Flux250Sigma4000', 'Flux250Sigma5000', \\\n",
    "        'Flux300Sigma2000', 'Flux300Sigma4000', 'Flux300Sigma5000']\n",
    "\n",
    "#for i in fluxes:\n",
    "#    for j in sigmas:\n",
    "#        sims.append('Flux' + str(i) + 'Sigma' + str(j))\n",
    "        \n",
    "dfs = {}\n",
    "for sim in sims:\n",
    "    dfs[sim] = pd.read_csv('../Data/GroundedMaskWiderDomain/' + str(sim) + '.csv')\n",
    "    "
   ]
  },
  {
   "cell_type": "code",
   "execution_count": 4,
   "id": "baa7ff66",
   "metadata": {},
   "outputs": [
    {
     "data": {
      "text/plain": [
       "{'Flux50Sigma1000': 992.46,\n",
       " 'Flux50Sigma2000': 2011.5,\n",
       " 'Flux50Sigma4000': 4079.8,\n",
       " 'Flux100Sigma1000': 1039.3600000000001,\n",
       " 'Flux100Sigma2000': 2036.2,\n",
       " 'Flux100Sigma3000': 2947.6,\n",
       " 'Flux100Sigma4000': 4079.8,\n",
       " 'Flux100Sigma5000': 5202.200000000001,\n",
       " 'Flux150Sigma2000': 2075.7,\n",
       " 'Flux150Sigma3000': 2982.4,\n",
       " 'Flux150Sigma4000': 4074.6,\n",
       " 'Flux200Sigma1000': 1100.6,\n",
       " 'Flux200Sigma2000': 2075.7,\n",
       " 'Flux200Sigma3000': 2982.4,\n",
       " 'Flux200Sigma4000': 4091.1,\n",
       " 'Flux200Sigma5000': 5270.1,\n",
       " 'Flux250Sigma1000': 1100.6,\n",
       " 'Flux250Sigma2000': 2099.8999999999996,\n",
       " 'Flux250Sigma3000': 3028.25,\n",
       " 'Flux250Sigma4000': 4117.15,\n",
       " 'Flux250Sigma5000': 5168.7,\n",
       " 'Flux300Sigma2000': 2138.6499999999996,\n",
       " 'Flux300Sigma4000': 4091.1,\n",
       " 'Flux300Sigma5000': 5230.15}"
      ]
     },
     "execution_count": 4,
     "metadata": {},
     "output_type": "execute_result"
    }
   ],
   "source": [
    "# Find the maximum grounded width for each simulation\n",
    "\n",
    "miny = {}\n",
    "maxy = {}\n",
    "GroundedWidths = {}\n",
    "GroundedRadii = {}\n",
    "dfs_GL = {}\n",
    "for sim in sims:\n",
    "    dfs_GL[sim] = dfs[sim][dfs[sim]['groundedmask'] == 0]\n",
    "    miny[sim] = dfs_GL[sim]['Points:1'].min()\n",
    "    maxy[sim] = dfs_GL[sim]['Points:1'].max()\n",
    "    GroundedWidths[sim] = (maxy[sim] - miny[sim])\n",
    "    GroundedRadii[sim] = (maxy[sim] - miny[sim]) / 2.0\n",
    "GroundedRadii"
   ]
  },
  {
   "cell_type": "raw",
   "id": "c0c74389",
   "metadata": {},
   "source": []
  },
  {
   "cell_type": "code",
   "execution_count": null,
   "id": "6e44338c",
   "metadata": {},
   "outputs": [],
   "source": []
  },
  {
   "cell_type": "code",
   "execution_count": null,
   "id": "3f19366a",
   "metadata": {},
   "outputs": [],
   "source": []
  },
  {
   "cell_type": "code",
   "execution_count": null,
   "id": "956cdc13",
   "metadata": {},
   "outputs": [],
   "source": []
  },
  {
   "cell_type": "code",
   "execution_count": null,
   "id": "6cdb9c56",
   "metadata": {},
   "outputs": [],
   "source": []
  },
  {
   "cell_type": "code",
   "execution_count": null,
   "id": "8f84d026",
   "metadata": {},
   "outputs": [],
   "source": []
  },
  {
   "cell_type": "code",
   "execution_count": null,
   "id": "34d26010",
   "metadata": {},
   "outputs": [],
   "source": []
  }
 ],
 "metadata": {
  "kernelspec": {
   "display_name": "Python 3 (ipykernel)",
   "language": "python",
   "name": "python3"
  },
  "language_info": {
   "codemirror_mode": {
    "name": "ipython",
    "version": 3
   },
   "file_extension": ".py",
   "mimetype": "text/x-python",
   "name": "python",
   "nbconvert_exporter": "python",
   "pygments_lexer": "ipython3",
   "version": "3.9.13"
  }
 },
 "nbformat": 4,
 "nbformat_minor": 5
}
