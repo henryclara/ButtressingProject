{
 "cells": [
  {
   "cell_type": "code",
   "execution_count": 1,
   "id": "83153d22",
   "metadata": {},
   "outputs": [],
   "source": [
    "import pandas as pd\n",
    "import numpy as np\n",
    "import matplotlib.pyplot as plt\n",
    "import scipy.interpolate\n",
    "import netCDF4 as nc\n",
    "import xarray as xr\n",
    "import scipy.ndimage\n",
    "import scipy as sp\n",
    "import alphashape\n",
    "import glob\n",
    "from shapely.geometry import Point\n",
    "from shapely.geometry.polygon import Polygon\n",
    "from matplotlib import style\n",
    "import seaborn as sns\n",
    "style.use('ggplot') or plt.style.use('ggplot')\n"
   ]
  },
  {
   "cell_type": "code",
   "execution_count": 2,
   "id": "7fca4364",
   "metadata": {},
   "outputs": [],
   "source": [
    "# Read in the grounded area csv files\n",
    "\n",
    "fluxes = [100, 200, 300, 400, 500]\n",
    "sigmas = [4000, 8000, 12000, 16000]\n",
    "sims = []\n",
    "\n",
    "for i in fluxes:\n",
    "    for j in sigmas:\n",
    "        sims.append('Flux' + str(i) + 'Sigma' + str(j))\n",
    "        \n",
    "dfs = {}\n",
    "for sim in sims:\n",
    "    dfs[sim] = pd.read_csv('../Data/GroundedMask/' + str(sim) + '.csv')\n",
    "    "
   ]
  },
  {
   "cell_type": "code",
   "execution_count": 3,
   "id": "baa7ff66",
   "metadata": {},
   "outputs": [],
   "source": [
    "# Find the maximum grounded width for each simulation\n",
    "\n",
    "miny = {}\n",
    "maxy = {}\n",
    "GroundedWidths = {}\n",
    "dfs_GL = {}\n",
    "for sim in sims:\n",
    "    dfs_GL[sim] = dfs[sim][dfs[sim]['groundedmask'] == 0]\n",
    "    miny[sim] = dfs_GL[sim]['Points:1'].min()\n",
    "    maxy[sim] = dfs_GL[sim]['Points:1'].max()\n",
    "    GroundedWidths[sim] = (maxy[sim] - miny[sim])/1000.0\n"
   ]
  },
  {
   "cell_type": "code",
   "execution_count": 4,
   "id": "aeefc0ec",
   "metadata": {},
   "outputs": [
    {
     "data": {
      "image/png": "[encoded data removed]",
      "text/plain": [
       "<Figure size 432x288 with 1 Axes>"
      ]
     },
     "metadata": {},
     "output_type": "display_data"
    }
   ],
   "source": [
    "\n",
    "colors = sns.color_palette(\"Set2\").as_hex()\n",
    "fig, ax = plt.subplots(1, 1)\n",
    "for i in range(len(fluxes)):\n",
    "    for j in range(len(sigmas)):\n",
    "        if i == 0:\n",
    "            ax.scatter(fluxes[i], GroundedWidths['Flux' + str(fluxes[i]) + 'Sigma' + str(sigmas[j])], label=r'$\\sigma = $' + str(sigmas[j]), color=colors[j])\n",
    "        else:\n",
    "            ax.scatter(fluxes[i], GroundedWidths['Flux' + str(fluxes[i]) + 'Sigma' + str(sigmas[j])], color=colors[j])\n",
    "ax.legend(fontsize='12')\n",
    "ax.set_xlim([0, 550])\n",
    "ax.set_ylim([0, 35])\n",
    "ax.set_xlabel(r'$\\bf{v}$ [m a$^{-1}$]', size=25)\n",
    "ax.set_ylabel(r'Grounded width [km]', size=25)\n",
    "ax.tick_params(axis='both', which='major', labelsize=20)\n",
    "fig.savefig('../Figures/vel_gwidth.jpg', format='jpg', dpi=500, bbox_inches = \"tight\")\n"
   ]
  },
  {
   "cell_type": "code",
   "execution_count": null,
   "id": "df03d7d6",
   "metadata": {},
   "outputs": [],
   "source": []
  },
  {
   "cell_type": "code",
   "execution_count": null,
   "id": "6e44338c",
   "metadata": {},
   "outputs": [],
   "source": []
  },
  {
   "cell_type": "code",
   "execution_count": null,
   "id": "3f19366a",
   "metadata": {},
   "outputs": [],
   "source": []
  },
  {
   "cell_type": "code",
   "execution_count": null,
   "id": "956cdc13",
   "metadata": {},
   "outputs": [],
   "source": []
  },
  {
   "cell_type": "code",
   "execution_count": null,
   "id": "6cdb9c56",
   "metadata": {},
   "outputs": [],
   "source": []
  },
  {
   "cell_type": "code",
   "execution_count": null,
   "id": "8f84d026",
   "metadata": {},
   "outputs": [],
   "source": []
  },
  {
   "cell_type": "code",
   "execution_count": null,
   "id": "34d26010",
   "metadata": {},
   "outputs": [],
   "source": []
  }
 ],
 "metadata": {
  "kernelspec": {
   "display_name": "Python 3 (ipykernel)",
   "language": "python",
   "name": "python3"
  },
  "language_info": {
   "codemirror_mode": {
    "name": "ipython",
    "version": 3
   },
   "file_extension": ".py",
   "mimetype": "text/x-python",
   "name": "python",
   "nbconvert_exporter": "python",
   "pygments_lexer": "ipython3",
   "version": "3.9.13"
  }
 },
 "nbformat": 4,
 "nbformat_minor": 5
}
