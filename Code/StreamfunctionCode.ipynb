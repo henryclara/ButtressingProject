{
 "cells": [
  {
   "cell_type": "code",
   "execution_count": 1,
   "id": "1425ea11",
   "metadata": {},
   "outputs": [],
   "source": [
    "import numpy as np"
   ]
  },
  {
   "cell_type": "code",
   "execution_count": 20,
   "id": "48aa85e1",
   "metadata": {},
   "outputs": [],
   "source": [
    "A = 1\n",
    "a = 10\n",
    "\n",
    "def r(x, y):\n",
    "    return np.sqrt(x**2 + y**2)\n",
    "\n",
    "def theta(x, y):\n",
    "    return np.arccos(x/r(x, y))\n",
    "\n",
    "def utheta(theta, r):\n",
    "    return 0.5 * A * np.cos(theta) * (1 - (a**2/r**2) - 2 * np.log(r/a))\n",
    "    \n",
    "\n",
    "def ur(theta, r):\n",
    "    return -0.5 * A * r * np.sin(theta) * (2 - 3 * (a**2/r**2) - 2/r - 2 * np.log(r)/a) "
   ]
  },
  {
   "cell_type": "code",
   "execution_count": 21,
   "id": "cfed2eb7",
   "metadata": {},
   "outputs": [
    {
     "name": "stdout",
     "output_type": "stream",
     "text": [
      "-1.5289606744177878e-16\n"
     ]
    }
   ],
   "source": [
    "# Calculate velocity of one point\n",
    "\n",
    "ut = utheta(np.pi/2, 200)\n",
    "\n",
    "\n",
    "\n",
    "print(ut)"
   ]
  },
  {
   "cell_type": "code",
   "execution_count": null,
   "id": "425352c5",
   "metadata": {},
   "outputs": [],
   "source": []
  }
 ],
 "metadata": {
  "kernelspec": {
   "display_name": "Python 3 (ipykernel)",
   "language": "python",
   "name": "python3"
  },
  "language_info": {
   "codemirror_mode": {
    "name": "ipython",
    "version": 3
   },
   "file_extension": ".py",
   "mimetype": "text/x-python",
   "name": "python",
   "nbconvert_exporter": "python",
   "pygments_lexer": "ipython3",
   "version": "3.9.13"
  }
 },
 "nbformat": 4,
 "nbformat_minor": 5
}
